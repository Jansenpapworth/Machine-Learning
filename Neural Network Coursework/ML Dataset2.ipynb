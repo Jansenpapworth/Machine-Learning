{
 "cells": [
  {
   "cell_type": "code",
   "execution_count": null,
   "metadata": {},
   "outputs": [],
   "source": [
    "import pandas\n",
    "import numpy as np\n",
    "import matplotlib.pyplot as plt\n",
    "from tensorflow.keras.models import Sequential \n",
    "from tensorflow.keras.layers import Dense\n",
    "from tensorflow.keras.utils import *\n",
    "\n",
    "df = pandas.read_csv('http://pogo.software/me4ml/dataset1.csv')"
   ]
  },
  {
   "cell_type": "code",
   "execution_count": 110,
   "metadata": {},
   "outputs": [
    {
     "ename": "SyntaxError",
     "evalue": "invalid syntax (2093891197.py, line 13)",
     "output_type": "error",
     "traceback": [
      "\u001b[1;36m  Cell \u001b[1;32mIn[110], line 13\u001b[1;36m\u001b[0m\n\u001b[1;33m    n = len(X(0,:))\u001b[0m\n\u001b[1;37m                ^\u001b[0m\n\u001b[1;31mSyntaxError\u001b[0m\u001b[1;31m:\u001b[0m invalid syntax\n"
     ]
    }
   ],
   "source": [
    "# importing all the data into arrays from the csv\n",
    "Arm_len = np.array(df['Arm length (m)'][:])\n",
    "Ball_wei = np.array(df['Ball weight (kg)'][:])\n",
    "Ball_rad = np.array(df['Ball radius (mm)'][:])\n",
    "Air_temp = np.array(df['Air temperature (deg C)'][:])\n",
    "Spring_const = np.array(df['Spring constant (N per m)'][:])\n",
    "Device_weight = np.array(df['Device weight (kg)'][:])\n",
    "\n",
    "## combine these parameters into a single variable\n",
    "X = np.column_stack((Arm_len, Ball_wei, Ball_rad, Air_temp, Spring_const, Device_weight))\n",
    "\n",
    "## scaling each of the parameters\n",
    "n = len(X(0,:))\n",
    "print(n)\n",
    "Yt = np.array(df['Target hit'][:])\n",
    "\n",
    "# Set up a sequential neural network\n",
    "model = Sequential()\n",
    "\n",
    "# set up the layers\n",
    "model.add(Dense(units=4, activation='linear', input_dim=6))\n",
    "model.add(Dense(units=10, activation='relu'))\n",
    "model.add(Dense(units=8, activation='relu'))\n",
    "model.add(Dense(units=6, activation='relu'))\n",
    "model.add(Dense(units=4, activation='relu'))\n",
    "model.add(Dense(units=2, activation='softmax'))\n",
    "\n",
    "model.compile(loss='mean_squared_error',optimizer='adam')\n",
    "\n",
    "Yt = to_categorical(Yt)\n",
    "\n",
    "# input the data\n",
    "model.fit(X, Yt, epochs=300, batch_size=32)\n",
    "\n",
    "model.save('jp1120-1.h5')\n",
    "\n",
    "# testing the model\n",
    "Yt_predict = model.predict(X)\n",
    "\n",
    "# finding the number of correct paramters\n",
    "number_correct = 0\n",
    "for i in range(len(Yt)):\n",
    "    if np.round(Yt[i, 0]) == np.round(Yt_predict[i, 0]):\n",
    "        number_correct += 1\n",
    "\n",
    "fraction_correct = 1.0 * number_correct / len(Yt_predict)\n",
    "\n",
    "print(fraction_correct)"
   ]
  }
 ],
 "metadata": {
  "kernelspec": {
   "display_name": "Python 3",
   "language": "python",
   "name": "python3"
  },
  "language_info": {
   "codemirror_mode": {
    "name": "ipython",
    "version": 3
   },
   "file_extension": ".py",
   "mimetype": "text/x-python",
   "name": "python",
   "nbconvert_exporter": "python",
   "pygments_lexer": "ipython3",
   "version": "3.11.6"
  }
 },
 "nbformat": 4,
 "nbformat_minor": 2
}

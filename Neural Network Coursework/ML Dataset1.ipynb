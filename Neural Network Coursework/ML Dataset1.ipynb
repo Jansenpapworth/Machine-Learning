{
 "cells": [
  {
   "cell_type": "code",
   "execution_count": 2,
   "metadata": {},
   "outputs": [],
   "source": [
    "import pandas\n",
    "import numpy as np\n",
    "import matplotlib.pyplot as plt\n",
    "from tensorflow.keras.models import Sequential \n",
    "from tensorflow.keras.layers import Dense\n",
    "\n",
    "df = pandas.read_csv('http://pogo.software/me4ml/dataset1.csv')"
   ]
  },
  {
   "cell_type": "code",
   "execution_count": 10,
   "metadata": {},
   "outputs": [
    {
     "name": "stdout",
     "output_type": "stream",
     "text": [
      "[0. 1. 1. ... 1. 1. 1.]\n"
     ]
    }
   ],
   "source": [
    "# importing all the data into arrays from the csv\n",
    "Arm_len = np.array(df['Arm length (m)'][:])\n",
    "Ball_wei = np.array(df['Ball weight (kg)'][:])\n",
    "Ball_rad = np.array(df['Ball radius (mm)'][:])\n",
    "Air_temp = np.array(df['Air temperature (deg C)'][:])\n",
    "Spring_const = np.array(['Spring constant (N per m)'][:])\n",
    "Device_weight = np.array(['Device weight (kg)'][:])\n",
    "\n",
    "hit = np.array(df['Target hit'][:])\n"
   ]
  }
 ],
 "metadata": {
  "kernelspec": {
   "display_name": "Python 3",
   "language": "python",
   "name": "python3"
  },
  "language_info": {
   "codemirror_mode": {
    "name": "ipython",
    "version": 3
   },
   "file_extension": ".py",
   "mimetype": "text/x-python",
   "name": "python",
   "nbconvert_exporter": "python",
   "pygments_lexer": "ipython3",
   "version": "3.11.6"
  }
 },
 "nbformat": 4,
 "nbformat_minor": 2
}

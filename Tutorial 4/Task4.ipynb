{
 "cells": [
  {
   "cell_type": "code",
   "execution_count": 22,
   "metadata": {},
   "outputs": [],
   "source": [
    "import numpy as np\n",
    "#import pandas\n",
    "import matplotlib.pyplot as plt\n",
    "import sys\n",
    "\n",
    "#points in the grid\n",
    "npx, npy = 200, 200\n",
    "\n",
    "# function to generate the grid \n",
    "def gen_sample_grid(npx=200, npy=200, limit = 1):\n",
    "  x1line = np.linspace(0, limit, npx)\n",
    "  x2line = np.linspace(0, limit, npy)\n",
    "  x1grid, x2grid = np.meshgrid(x1line, x2line)\n",
    "  Xgrid = np.array([x1grid, x2grid]).reshape([2,npx*npy]).T\n",
    "  return Xgrid, x1line, x2line\n",
    "\n",
    "Xgrid, x1line, x2line = gen_sample_grid(npx,npy)\n",
    "\n",
    "# defining the weighting\n",
    "# create a dictionary to map all the variables\n",
    "weights = {\n",
    "    'a1' : np.transpose(np.array([[1.3,-1,-3,-10]])),\n",
    "    'a2' :  np.transpose(np.array([[-1,1.5,3,-1]])),\n",
    "    'a3' :  np.transpose([[0.4,-0.1,-0.1,3]]),\n",
    "    'a4' :  np.transpose(np.array([[0.5,-1,1,-0.1]])),\n",
    "    'a5' :  np.transpose(np.array([[-0.2,1.5,-1,0.4]]))\n",
    "}\n",
    "\n",
    "# checking the shapes of all weights dimensions is correct\n",
    "for i in range(1,5):\n",
    "    var = 'a%d' %i\n",
    "    if weights[var].shape != (4,1):\n",
    "       print('\\nError!! Shape of a%d is incorrect\\n' %i)\n",
    "       sys.exit()\n",
    "\n",
    "# check the grid dimension\n",
    "if Xgrid.shape != (npx*npy,2):\n",
    "   size = Xgrid.shape\n",
    "   print('Xgrid is in the wrong size, Actual size', size, 'Expected size',npx*npy)    \n",
    "\n",
    "#if a1.shape != (3,1):\n",
    "#  print(\"Error!! Shape of %d is incorrect\", )"
   ]
  },
  {
   "cell_type": "code",
   "execution_count": 23,
   "metadata": {},
   "outputs": [
    {
     "name": "stdout",
     "output_type": "stream",
     "text": [
      "(40000, 2)\n"
     ]
    }
   ],
   "source": [
    "print(Xgrid.shape)"
   ]
  },
  {
   "cell_type": "code",
   "execution_count": 24,
   "metadata": {},
   "outputs": [
    {
     "data": {
      "text/plain": [
       "(40000, 1)"
      ]
     },
     "execution_count": 24,
     "metadata": {},
     "output_type": "execute_result"
    }
   ],
   "source": [
    "x1_x2.shape"
   ]
  },
  {
   "cell_type": "code",
   "execution_count": 25,
   "metadata": {},
   "outputs": [
    {
     "name": "stdout",
     "output_type": "stream",
     "text": [
      "x12 shape (40000, 1)\n",
      "(40000, 4)\n"
     ]
    }
   ],
   "source": [
    "# y is a [1,x1,x2,x1*x2] so add 1 at the start of each value\n",
    "#x1_x2 = np.reshape(x1_x2,[npx*npy,1])\n",
    "x1_x2 = np.reshape(np.array(Xgrid[:,0]*Xgrid[:,1]).T,[npx*npy,1])\n",
    "print('x12 shape',np.shape(x1_x2))\n",
    "\n",
    "Ygrid = np.concatenate([np.ones([npx * npy,1]), Xgrid, x1_x2],axis=1)\n",
    "#Ygrid = np.concatenate([Ygrid, x1_x2],axis=1)\n",
    "print(Ygrid.shape)\n",
    "#Ygrid = np.concatenate([[x1line*x2line],Xgrid],axis=2)\n",
    "\n"
   ]
  },
  {
   "cell_type": "code",
   "execution_count": 26,
   "metadata": {},
   "outputs": [
    {
     "data": {
      "image/png": "[encoded data removed]",
      "text/plain": [
       "<Figure size 640x480 with 2 Axes>"
      ]
     },
     "metadata": {},
     "output_type": "display_data"
    }
   ],
   "source": [
    "# calculate each of the five functions as before\n",
    "g1 = np.matmul(Ygrid,weights['a1'])\n",
    "g2 = np.matmul(Ygrid,weights['a2'])\n",
    "g3 = np.matmul(Ygrid,weights['a3'])\n",
    "g4 = np.matmul(Ygrid,weights['a4'])\n",
    "g5 = np.matmul(Ygrid,weights['a5'])\n",
    "\n",
    "#combine all five functions together\n",
    "gconc = np.concatenate([g1,g2,g3,g4,g5],axis=1)\n",
    "\n",
    "# find which of values is largest for each row\n",
    "gconc = np.argmax(gconc,axis=1)\n",
    "\n",
    "# reshaping back into the a 200x200 grid\n",
    "gconc = np.reshape(gconc,[npx,npy])\n",
    "\n",
    "# plotting the graph\n",
    "plt.contourf(x1line,x2line,gconc,cmap='viridis')\n",
    "plt.colorbar()\n",
    "plt.show()"
   ]
  }
 ],
 "metadata": {
  "kernelspec": {
   "display_name": "Python 3",
   "language": "python",
   "name": "python3"
  },
  "language_info": {
   "codemirror_mode": {
    "name": "ipython",
    "version": 3
   },
   "file_extension": ".py",
   "mimetype": "text/x-python",
   "name": "python",
   "nbconvert_exporter": "python",
   "pygments_lexer": "ipython3",
   "version": "3.11.6"
  }
 },
 "nbformat": 4,
 "nbformat_minor": 2
}

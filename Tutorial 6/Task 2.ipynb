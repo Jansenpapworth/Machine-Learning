{
 "cells": [
  {
   "cell_type": "code",
   "execution_count": 27,
   "metadata": {},
   "outputs": [
    {
     "ename": "AttributeError",
     "evalue": "module 'tools' has no attribute 'gen_sample_grid'",
     "output_type": "error",
     "traceback": [
      "\u001b[1;31m---------------------------------------------------------------------------\u001b[0m",
      "\u001b[1;31mAttributeError\u001b[0m                            Traceback (most recent call last)",
      "\u001b[1;32mc:\\Machine-Learning\\Tutorial 6\\Task 2.ipynb Cell 1\u001b[0m line \u001b[0;36m5\n\u001b[0;32m      <a href='vscode-notebook-cell:/c%3A/Machine-Learning/Tutorial%206/Task%202.ipynb#W0sZmlsZQ%3D%3D?line=1'>2</a>\u001b[0m \u001b[39mimport\u001b[39;00m \u001b[39mmatplotlib\u001b[39;00m\u001b[39m.\u001b[39;00m\u001b[39mpyplot\u001b[39;00m \u001b[39mas\u001b[39;00m \u001b[39mplt\u001b[39;00m\n\u001b[0;32m      <a href='vscode-notebook-cell:/c%3A/Machine-Learning/Tutorial%206/Task%202.ipynb#W0sZmlsZQ%3D%3D?line=3'>4</a>\u001b[0m X, y \u001b[39m=\u001b[39m tl\u001b[39m.\u001b[39mgen_circular_distribution(n\u001b[39m=\u001b[39m\u001b[39m200\u001b[39m)\n\u001b[1;32m----> <a href='vscode-notebook-cell:/c%3A/Machine-Learning/Tutorial%206/Task%202.ipynb#W0sZmlsZQ%3D%3D?line=4'>5</a>\u001b[0m tl\u001b[39m.\u001b[39;49mgen_sample_grid()\n\u001b[0;32m      <a href='vscode-notebook-cell:/c%3A/Machine-Learning/Tutorial%206/Task%202.ipynb#W0sZmlsZQ%3D%3D?line=5'>6</a>\u001b[0m plt\u001b[39m.\u001b[39mscatter(X[y \u001b[39m==\u001b[39m \u001b[39m0\u001b[39m,\u001b[39m0\u001b[39m],X[y\u001b[39m==\u001b[39m\u001b[39m0\u001b[39m,\u001b[39m1\u001b[39m])\n\u001b[0;32m      <a href='vscode-notebook-cell:/c%3A/Machine-Learning/Tutorial%206/Task%202.ipynb#W0sZmlsZQ%3D%3D?line=6'>7</a>\u001b[0m plt\u001b[39m.\u001b[39mscatter(X[y \u001b[39m==\u001b[39m \u001b[39m1\u001b[39m,\u001b[39m0\u001b[39m],X[y\u001b[39m==\u001b[39m\u001b[39m1\u001b[39m,\u001b[39m1\u001b[39m])\n",
      "\u001b[1;31mAttributeError\u001b[0m: module 'tools' has no attribute 'gen_sample_grid'"
     ]
    }
   ],
   "source": [
    "import tools as tl\n",
    "import matplotlib.pyplot as plt\n",
    "\n",
    "X, y = tl.gen_circular_distribution(n=200)\n",
    "plt.scatter(X[y == 0,0],X[y==0,1])\n",
    "plt.scatter(X[y == 1,0],X[y==1,1])\n"
   ]
  },
  {
   "cell_type": "code",
   "execution_count": 31,
   "metadata": {},
   "outputs": [
    {
     "ename": "ImportError",
     "evalue": "cannot import name 'gen_sample_grid' from 'tools' (c:\\Machine-Learning\\Tutorial 6\\tools.py)",
     "output_type": "error",
     "traceback": [
      "\u001b[1;31m---------------------------------------------------------------------------\u001b[0m",
      "\u001b[1;31mImportError\u001b[0m                               Traceback (most recent call last)",
      "\u001b[1;32mc:\\Machine-Learning\\Tutorial 6\\Task 2.ipynb Cell 2\u001b[0m line \u001b[0;36m5\n\u001b[0;32m      <a href='vscode-notebook-cell:/c%3A/Machine-Learning/Tutorial%206/Task%202.ipynb#W1sZmlsZQ%3D%3D?line=2'>3</a>\u001b[0m \u001b[39mfrom\u001b[39;00m \u001b[39mtensorflow\u001b[39;00m\u001b[39m.\u001b[39;00m\u001b[39mkeras\u001b[39;00m\u001b[39m.\u001b[39;00m\u001b[39mutils\u001b[39;00m \u001b[39mimport\u001b[39;00m \u001b[39m*\u001b[39m\n\u001b[0;32m      <a href='vscode-notebook-cell:/c%3A/Machine-Learning/Tutorial%206/Task%202.ipynb#W1sZmlsZQ%3D%3D?line=3'>4</a>\u001b[0m \u001b[39mimport\u001b[39;00m \u001b[39mnumpy\u001b[39;00m \u001b[39mas\u001b[39;00m \u001b[39mnp\u001b[39;00m\n\u001b[1;32m----> <a href='vscode-notebook-cell:/c%3A/Machine-Learning/Tutorial%206/Task%202.ipynb#W1sZmlsZQ%3D%3D?line=4'>5</a>\u001b[0m \u001b[39mfrom\u001b[39;00m \u001b[39mtools\u001b[39;00m \u001b[39mimport\u001b[39;00m gen_sample_grid\n\u001b[0;32m      <a href='vscode-notebook-cell:/c%3A/Machine-Learning/Tutorial%206/Task%202.ipynb#W1sZmlsZQ%3D%3D?line=6'>7</a>\u001b[0m Xgrid, x1line  \u001b[39m=\u001b[39m gen_sample_grid()\n",
      "\u001b[1;31mImportError\u001b[0m: cannot import name 'gen_sample_grid' from 'tools' (c:\\Machine-Learning\\Tutorial 6\\tools.py)"
     ]
    }
   ],
   "source": [
    "from tensorflow.keras.models import Sequential \n",
    "from tensorflow.keras.layers import Dense\n",
    "from tensorflow.keras.utils import *\n",
    "import numpy as np\n",
    "from tools import gen_sample_grid\n",
    "\n",
    "Xgrid, x1line  = gen_sample_grid()"
   ]
  },
  {
   "cell_type": "code",
   "execution_count": null,
   "metadata": {},
   "outputs": [],
   "source": [
    "# set up the sequential neural network\n",
    "model = Sequential()\n",
    "\n",
    "# add the layers\n",
    "model.add(Dense(units=4, activation = 'relu', input_dim=2))\n",
    "model.add(Dense(units=4,activation='relu'))\n",
    "model.add(Dense(units=2,activation='softmax'))\n",
    "\n",
    "model.compile(loss='categorical_crossentropy',optimizer='sgd')\n",
    "\n",
    "y_binary = to_categorical(y)\n",
    "\n",
    "model.fit(X,y_binary, epochs=250,batch_size=32)"
   ]
  }
 ],
 "metadata": {
  "kernelspec": {
   "display_name": "Python 3",
   "language": "python",
   "name": "python3"
  },
  "language_info": {
   "codemirror_mode": {
    "name": "ipython",
    "version": 3
   },
   "file_extension": ".py",
   "mimetype": "text/x-python",
   "name": "python",
   "nbconvert_exporter": "python",
   "pygments_lexer": "ipython3",
   "version": "3.11.6"
  }
 },
 "nbformat": 4,
 "nbformat_minor": 2
}
